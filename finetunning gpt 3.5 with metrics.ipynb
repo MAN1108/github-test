{
  "cells": [
    {
      "cell_type": "markdown",
      "metadata": {
        "id": "view-in-github",
        "colab_type": "text"
      },
      "source": [
        "<a href=\"https://colab.research.google.com/github/MAN1108/github-test/blob/main/finetunning%20gpt%203.5%20with%20metrics.ipynb\" target=\"_parent\"><img src=\"https://colab.research.google.com/assets/colab-badge.svg\" alt=\"Open In Colab\"/></a>"
      ]
    },
    {
      "cell_type": "code",
      "execution_count": 63,
      "metadata": {
        "colab": {
          "base_uri": "https://localhost:8080/"
        },
        "id": "1x8Bv3RSQgT5",
        "outputId": "63b2641c-0e69-4011-a01f-7f9a91913017"
      },
      "outputs": [
        {
          "output_type": "stream",
          "name": "stdout",
          "text": [
            "Requirement already satisfied: openai in /usr/local/lib/python3.10/dist-packages (1.25.0)\n",
            "Requirement already satisfied: anyio<5,>=3.5.0 in /usr/local/lib/python3.10/dist-packages (from openai) (3.7.1)\n",
            "Requirement already satisfied: distro<2,>=1.7.0 in /usr/lib/python3/dist-packages (from openai) (1.7.0)\n",
            "Requirement already satisfied: httpx<1,>=0.23.0 in /usr/local/lib/python3.10/dist-packages (from openai) (0.27.0)\n",
            "Requirement already satisfied: pydantic<3,>=1.9.0 in /usr/local/lib/python3.10/dist-packages (from openai) (2.7.1)\n",
            "Requirement already satisfied: sniffio in /usr/local/lib/python3.10/dist-packages (from openai) (1.3.1)\n",
            "Requirement already satisfied: tqdm>4 in /usr/local/lib/python3.10/dist-packages (from openai) (4.66.2)\n",
            "Requirement already satisfied: typing-extensions<5,>=4.7 in /usr/local/lib/python3.10/dist-packages (from openai) (4.11.0)\n",
            "Requirement already satisfied: idna>=2.8 in /usr/local/lib/python3.10/dist-packages (from anyio<5,>=3.5.0->openai) (3.7)\n",
            "Requirement already satisfied: exceptiongroup in /usr/local/lib/python3.10/dist-packages (from anyio<5,>=3.5.0->openai) (1.2.1)\n",
            "Requirement already satisfied: certifi in /usr/local/lib/python3.10/dist-packages (from httpx<1,>=0.23.0->openai) (2024.2.2)\n",
            "Requirement already satisfied: httpcore==1.* in /usr/local/lib/python3.10/dist-packages (from httpx<1,>=0.23.0->openai) (1.0.5)\n",
            "Requirement already satisfied: h11<0.15,>=0.13 in /usr/local/lib/python3.10/dist-packages (from httpcore==1.*->httpx<1,>=0.23.0->openai) (0.14.0)\n",
            "Requirement already satisfied: annotated-types>=0.4.0 in /usr/local/lib/python3.10/dist-packages (from pydantic<3,>=1.9.0->openai) (0.6.0)\n",
            "Requirement already satisfied: pydantic-core==2.18.2 in /usr/local/lib/python3.10/dist-packages (from pydantic<3,>=1.9.0->openai) (2.18.2)\n"
          ]
        }
      ],
      "source": [
        "!pip install -U openai\n"
      ]
    },
    {
      "cell_type": "code",
      "execution_count": 95,
      "metadata": {
        "colab": {
          "base_uri": "https://localhost:8080/",
          "height": 293
        },
        "id": "V0vjnM26SLIL",
        "outputId": "51ddc68d-e91d-49c7-a100-71289192b2b0"
      },
      "outputs": [
        {
          "output_type": "execute_result",
          "data": {
            "text/plain": [
              "                                            question  \\\n",
              "0  What is the name of the place where students b...   \n",
              "1  What did Wendelin do to make sure she wasn't r...   \n",
              "2  What is the name of the spell used to disarm a...   \n",
              "3  What impact does Harry’s friendship with Hermi...   \n",
              "4  What is the name of the magical object that is...   \n",
              "\n",
              "                                              answer  \\\n",
              "0                                       Diagon Alley   \n",
              "1                                    Wore disguises.   \n",
              "2                                       Expelliarmus   \n",
              "3  It helps him see the world from different pers...   \n",
              "4                                     Hermione's Bag   \n",
              "\n",
              "                                                text  \n",
              "0  <s>[INST] <<SYS>> Answer as briefly as you can...  \n",
              "1  <s>[INST] <<SYS>> Answer as briefly as you can...  \n",
              "2  <s>[INST] <<SYS>> Answer as briefly as you can...  \n",
              "3  <s>[INST] <<SYS>> Answer as briefly as you can...  \n",
              "4  <s>[INST] <<SYS>> Answer as briefly as you can...  "
            ],
            "text/html": [
              "\n",
              "  <div id=\"df-46dcb64e-73f8-41a8-89f3-2ec567490190\" class=\"colab-df-container\">\n",
              "    <div>\n",
              "<style scoped>\n",
              "    .dataframe tbody tr th:only-of-type {\n",
              "        vertical-align: middle;\n",
              "    }\n",
              "\n",
              "    .dataframe tbody tr th {\n",
              "        vertical-align: top;\n",
              "    }\n",
              "\n",
              "    .dataframe thead th {\n",
              "        text-align: right;\n",
              "    }\n",
              "</style>\n",
              "<table border=\"1\" class=\"dataframe\">\n",
              "  <thead>\n",
              "    <tr style=\"text-align: right;\">\n",
              "      <th></th>\n",
              "      <th>question</th>\n",
              "      <th>answer</th>\n",
              "      <th>text</th>\n",
              "    </tr>\n",
              "  </thead>\n",
              "  <tbody>\n",
              "    <tr>\n",
              "      <th>0</th>\n",
              "      <td>What is the name of the place where students b...</td>\n",
              "      <td>Diagon Alley</td>\n",
              "      <td>&lt;s&gt;[INST] &lt;&lt;SYS&gt;&gt; Answer as briefly as you can...</td>\n",
              "    </tr>\n",
              "    <tr>\n",
              "      <th>1</th>\n",
              "      <td>What did Wendelin do to make sure she wasn't r...</td>\n",
              "      <td>Wore disguises.</td>\n",
              "      <td>&lt;s&gt;[INST] &lt;&lt;SYS&gt;&gt; Answer as briefly as you can...</td>\n",
              "    </tr>\n",
              "    <tr>\n",
              "      <th>2</th>\n",
              "      <td>What is the name of the spell used to disarm a...</td>\n",
              "      <td>Expelliarmus</td>\n",
              "      <td>&lt;s&gt;[INST] &lt;&lt;SYS&gt;&gt; Answer as briefly as you can...</td>\n",
              "    </tr>\n",
              "    <tr>\n",
              "      <th>3</th>\n",
              "      <td>What impact does Harry’s friendship with Hermi...</td>\n",
              "      <td>It helps him see the world from different pers...</td>\n",
              "      <td>&lt;s&gt;[INST] &lt;&lt;SYS&gt;&gt; Answer as briefly as you can...</td>\n",
              "    </tr>\n",
              "    <tr>\n",
              "      <th>4</th>\n",
              "      <td>What is the name of the magical object that is...</td>\n",
              "      <td>Hermione's Bag</td>\n",
              "      <td>&lt;s&gt;[INST] &lt;&lt;SYS&gt;&gt; Answer as briefly as you can...</td>\n",
              "    </tr>\n",
              "  </tbody>\n",
              "</table>\n",
              "</div>\n",
              "    <div class=\"colab-df-buttons\">\n",
              "\n",
              "  <div class=\"colab-df-container\">\n",
              "    <button class=\"colab-df-convert\" onclick=\"convertToInteractive('df-46dcb64e-73f8-41a8-89f3-2ec567490190')\"\n",
              "            title=\"Convert this dataframe to an interactive table.\"\n",
              "            style=\"display:none;\">\n",
              "\n",
              "  <svg xmlns=\"http://www.w3.org/2000/svg\" height=\"24px\" viewBox=\"0 -960 960 960\">\n",
              "    <path d=\"M120-120v-720h720v720H120Zm60-500h600v-160H180v160Zm220 220h160v-160H400v160Zm0 220h160v-160H400v160ZM180-400h160v-160H180v160Zm440 0h160v-160H620v160ZM180-180h160v-160H180v160Zm440 0h160v-160H620v160Z\"/>\n",
              "  </svg>\n",
              "    </button>\n",
              "\n",
              "  <style>\n",
              "    .colab-df-container {\n",
              "      display:flex;\n",
              "      gap: 12px;\n",
              "    }\n",
              "\n",
              "    .colab-df-convert {\n",
              "      background-color: #E8F0FE;\n",
              "      border: none;\n",
              "      border-radius: 50%;\n",
              "      cursor: pointer;\n",
              "      display: none;\n",
              "      fill: #1967D2;\n",
              "      height: 32px;\n",
              "      padding: 0 0 0 0;\n",
              "      width: 32px;\n",
              "    }\n",
              "\n",
              "    .colab-df-convert:hover {\n",
              "      background-color: #E2EBFA;\n",
              "      box-shadow: 0px 1px 2px rgba(60, 64, 67, 0.3), 0px 1px 3px 1px rgba(60, 64, 67, 0.15);\n",
              "      fill: #174EA6;\n",
              "    }\n",
              "\n",
              "    .colab-df-buttons div {\n",
              "      margin-bottom: 4px;\n",
              "    }\n",
              "\n",
              "    [theme=dark] .colab-df-convert {\n",
              "      background-color: #3B4455;\n",
              "      fill: #D2E3FC;\n",
              "    }\n",
              "\n",
              "    [theme=dark] .colab-df-convert:hover {\n",
              "      background-color: #434B5C;\n",
              "      box-shadow: 0px 1px 3px 1px rgba(0, 0, 0, 0.15);\n",
              "      filter: drop-shadow(0px 1px 2px rgba(0, 0, 0, 0.3));\n",
              "      fill: #FFFFFF;\n",
              "    }\n",
              "  </style>\n",
              "\n",
              "    <script>\n",
              "      const buttonEl =\n",
              "        document.querySelector('#df-46dcb64e-73f8-41a8-89f3-2ec567490190 button.colab-df-convert');\n",
              "      buttonEl.style.display =\n",
              "        google.colab.kernel.accessAllowed ? 'block' : 'none';\n",
              "\n",
              "      async function convertToInteractive(key) {\n",
              "        const element = document.querySelector('#df-46dcb64e-73f8-41a8-89f3-2ec567490190');\n",
              "        const dataTable =\n",
              "          await google.colab.kernel.invokeFunction('convertToInteractive',\n",
              "                                                    [key], {});\n",
              "        if (!dataTable) return;\n",
              "\n",
              "        const docLinkHtml = 'Like what you see? Visit the ' +\n",
              "          '<a target=\"_blank\" href=https://colab.research.google.com/notebooks/data_table.ipynb>data table notebook</a>'\n",
              "          + ' to learn more about interactive tables.';\n",
              "        element.innerHTML = '';\n",
              "        dataTable['output_type'] = 'display_data';\n",
              "        await google.colab.output.renderOutput(dataTable, element);\n",
              "        const docLink = document.createElement('div');\n",
              "        docLink.innerHTML = docLinkHtml;\n",
              "        element.appendChild(docLink);\n",
              "      }\n",
              "    </script>\n",
              "  </div>\n",
              "\n",
              "\n",
              "<div id=\"df-4412f391-22ea-45ba-b89f-54c7ea542c91\">\n",
              "  <button class=\"colab-df-quickchart\" onclick=\"quickchart('df-4412f391-22ea-45ba-b89f-54c7ea542c91')\"\n",
              "            title=\"Suggest charts\"\n",
              "            style=\"display:none;\">\n",
              "\n",
              "<svg xmlns=\"http://www.w3.org/2000/svg\" height=\"24px\"viewBox=\"0 0 24 24\"\n",
              "     width=\"24px\">\n",
              "    <g>\n",
              "        <path d=\"M19 3H5c-1.1 0-2 .9-2 2v14c0 1.1.9 2 2 2h14c1.1 0 2-.9 2-2V5c0-1.1-.9-2-2-2zM9 17H7v-7h2v7zm4 0h-2V7h2v10zm4 0h-2v-4h2v4z\"/>\n",
              "    </g>\n",
              "</svg>\n",
              "  </button>\n",
              "\n",
              "<style>\n",
              "  .colab-df-quickchart {\n",
              "      --bg-color: #E8F0FE;\n",
              "      --fill-color: #1967D2;\n",
              "      --hover-bg-color: #E2EBFA;\n",
              "      --hover-fill-color: #174EA6;\n",
              "      --disabled-fill-color: #AAA;\n",
              "      --disabled-bg-color: #DDD;\n",
              "  }\n",
              "\n",
              "  [theme=dark] .colab-df-quickchart {\n",
              "      --bg-color: #3B4455;\n",
              "      --fill-color: #D2E3FC;\n",
              "      --hover-bg-color: #434B5C;\n",
              "      --hover-fill-color: #FFFFFF;\n",
              "      --disabled-bg-color: #3B4455;\n",
              "      --disabled-fill-color: #666;\n",
              "  }\n",
              "\n",
              "  .colab-df-quickchart {\n",
              "    background-color: var(--bg-color);\n",
              "    border: none;\n",
              "    border-radius: 50%;\n",
              "    cursor: pointer;\n",
              "    display: none;\n",
              "    fill: var(--fill-color);\n",
              "    height: 32px;\n",
              "    padding: 0;\n",
              "    width: 32px;\n",
              "  }\n",
              "\n",
              "  .colab-df-quickchart:hover {\n",
              "    background-color: var(--hover-bg-color);\n",
              "    box-shadow: 0 1px 2px rgba(60, 64, 67, 0.3), 0 1px 3px 1px rgba(60, 64, 67, 0.15);\n",
              "    fill: var(--button-hover-fill-color);\n",
              "  }\n",
              "\n",
              "  .colab-df-quickchart-complete:disabled,\n",
              "  .colab-df-quickchart-complete:disabled:hover {\n",
              "    background-color: var(--disabled-bg-color);\n",
              "    fill: var(--disabled-fill-color);\n",
              "    box-shadow: none;\n",
              "  }\n",
              "\n",
              "  .colab-df-spinner {\n",
              "    border: 2px solid var(--fill-color);\n",
              "    border-color: transparent;\n",
              "    border-bottom-color: var(--fill-color);\n",
              "    animation:\n",
              "      spin 1s steps(1) infinite;\n",
              "  }\n",
              "\n",
              "  @keyframes spin {\n",
              "    0% {\n",
              "      border-color: transparent;\n",
              "      border-bottom-color: var(--fill-color);\n",
              "      border-left-color: var(--fill-color);\n",
              "    }\n",
              "    20% {\n",
              "      border-color: transparent;\n",
              "      border-left-color: var(--fill-color);\n",
              "      border-top-color: var(--fill-color);\n",
              "    }\n",
              "    30% {\n",
              "      border-color: transparent;\n",
              "      border-left-color: var(--fill-color);\n",
              "      border-top-color: var(--fill-color);\n",
              "      border-right-color: var(--fill-color);\n",
              "    }\n",
              "    40% {\n",
              "      border-color: transparent;\n",
              "      border-right-color: var(--fill-color);\n",
              "      border-top-color: var(--fill-color);\n",
              "    }\n",
              "    60% {\n",
              "      border-color: transparent;\n",
              "      border-right-color: var(--fill-color);\n",
              "    }\n",
              "    80% {\n",
              "      border-color: transparent;\n",
              "      border-right-color: var(--fill-color);\n",
              "      border-bottom-color: var(--fill-color);\n",
              "    }\n",
              "    90% {\n",
              "      border-color: transparent;\n",
              "      border-bottom-color: var(--fill-color);\n",
              "    }\n",
              "  }\n",
              "</style>\n",
              "\n",
              "  <script>\n",
              "    async function quickchart(key) {\n",
              "      const quickchartButtonEl =\n",
              "        document.querySelector('#' + key + ' button');\n",
              "      quickchartButtonEl.disabled = true;  // To prevent multiple clicks.\n",
              "      quickchartButtonEl.classList.add('colab-df-spinner');\n",
              "      try {\n",
              "        const charts = await google.colab.kernel.invokeFunction(\n",
              "            'suggestCharts', [key], {});\n",
              "      } catch (error) {\n",
              "        console.error('Error during call to suggestCharts:', error);\n",
              "      }\n",
              "      quickchartButtonEl.classList.remove('colab-df-spinner');\n",
              "      quickchartButtonEl.classList.add('colab-df-quickchart-complete');\n",
              "    }\n",
              "    (() => {\n",
              "      let quickchartButtonEl =\n",
              "        document.querySelector('#df-4412f391-22ea-45ba-b89f-54c7ea542c91 button');\n",
              "      quickchartButtonEl.style.display =\n",
              "        google.colab.kernel.accessAllowed ? 'block' : 'none';\n",
              "    })();\n",
              "  </script>\n",
              "</div>\n",
              "    </div>\n",
              "  </div>\n"
            ],
            "application/vnd.google.colaboratory.intrinsic+json": {
              "type": "dataframe",
              "variable_name": "df",
              "summary": "{\n  \"name\": \"df\",\n  \"rows\": 2219,\n  \"fields\": [\n    {\n      \"column\": \"question\",\n      \"properties\": {\n        \"dtype\": \"string\",\n        \"num_unique_values\": 1453,\n        \"samples\": [\n          \"What is another name for the Alihotsy tree?\",\n          \"Which of Voldemort\\u2019s Horcruxes do Harry and Dumbledore track down\\u2014but it turns out to be a fake?\",\n          \"What is the title of the seventh book in the series?\"\n        ],\n        \"semantic_type\": \"\",\n        \"description\": \"\"\n      }\n    },\n    {\n      \"column\": \"answer\",\n      \"properties\": {\n        \"dtype\": \"string\",\n        \"num_unique_values\": 1178,\n        \"samples\": [\n          \"Charm\",\n          \"A piece of the person you want to turn into\",\n          \"Caretaker\"\n        ],\n        \"semantic_type\": \"\",\n        \"description\": \"\"\n      }\n    },\n    {\n      \"column\": \"text\",\n      \"properties\": {\n        \"dtype\": \"string\",\n        \"num_unique_values\": 1480,\n        \"samples\": [\n          \"<s>[INST] <<SYS>> Answer as briefly as you can to the following question. You are required to give a one-shot answer: <</SYS>> What is the incantation for a Confundus charm? [/INST] Confundo </s>\",\n          \"<s>[INST] <<SYS>> Answer as briefly as you can to the following question. You are required to give a one-shot answer: <</SYS>> What was Gilderoy Lockhart's best Spell? [/INST] Obliviate </s>\",\n          \"<s>[INST] <<SYS>> Answer as briefly as you can to the following question. You are required to give a one-shot answer: <</SYS>> Wiggentrees are guarded by what creature? [/INST] Bowtruckle </s>\"\n        ],\n        \"semantic_type\": \"\",\n        \"description\": \"\"\n      }\n    }\n  ]\n}"
            }
          },
          "metadata": {},
          "execution_count": 95
        }
      ],
      "source": [
        "import pandas as pd\n",
        "df = pd.read_csv(\"/content/sample_data/train.csv\")\n",
        "df.head(5)"
      ]
    },
    {
      "cell_type": "code",
      "execution_count": 106,
      "metadata": {
        "colab": {
          "base_uri": "https://localhost:8080/"
        },
        "id": "-tlbrcUMUEiw",
        "outputId": "8bba5e1f-6e7c-4187-90f6-74ffc234dfcd"
      },
      "outputs": [
        {
          "output_type": "execute_result",
          "data": {
            "text/plain": [
              "[{'role': 'user',\n",
              "  'content': 'What is the name of the place where students buy their school supplies?'},\n",
              " {'role': 'assistant', 'content': '\"Diagon Alley\"'}]"
            ]
          },
          "metadata": {},
          "execution_count": 106
        }
      ],
      "source": [
        "def convert_to_gpt35_format(dataset):\n",
        "    fine_tuning_data = []\n",
        "    for _, row in dataset.iterrows():\n",
        "        json_response = f'\"{ row[\"answer\"]}\"'\n",
        "\n",
        "        fine_tuning_data.append({\n",
        "            \"messages\": [\n",
        "                {\"role\": \"user\", \"content\": row['question']},\n",
        "                {\"role\": \"assistant\", \"content\": json_response}\n",
        "            ]\n",
        "        })\n",
        "    return fine_tuning_data\n",
        "\n",
        "dataset = pd.read_csv('/content/sample_data/train_1.csv')\n",
        "converted_data = convert_to_gpt35_format(dataset)\n",
        "converted_data[0]['messages']"
      ]
    },
    {
      "cell_type": "code",
      "execution_count": 107,
      "metadata": {
        "colab": {
          "base_uri": "https://localhost:8080/",
          "height": 35
        },
        "id": "C3_qXsSdU_5P",
        "outputId": "e80cc919-eb39-45a1-c965-3b3d8d647cb6"
      },
      "outputs": [
        {
          "output_type": "execute_result",
          "data": {
            "text/plain": [
              "'Diagon Alley'"
            ],
            "application/vnd.google.colaboratory.intrinsic+json": {
              "type": "string"
            }
          },
          "metadata": {},
          "execution_count": 107
        }
      ],
      "source": [
        "\n",
        "import json\n",
        "json.loads(converted_data[0]['messages'][-1]['content'])"
      ]
    },
    {
      "cell_type": "code",
      "execution_count": 108,
      "metadata": {
        "id": "3WoKcFYBVKBM"
      },
      "outputs": [],
      "source": [
        "from sklearn.model_selection import train_test_split\n",
        "\n",
        "# Stratified splitting. Assuming 'Top Category' can be used for stratification\n",
        "train_data, val_data = train_test_split(\n",
        "    converted_data,\n",
        "    test_size=0.2,\n",
        "      random_state=42  # for reproducibility\n",
        ")"
      ]
    },
    {
      "cell_type": "code",
      "execution_count": 109,
      "metadata": {
        "colab": {
          "base_uri": "https://localhost:8080/"
        },
        "id": "FZzARKVFVPsZ",
        "outputId": "bfacdcd7-f442-4a77-d16b-13686b133543"
      },
      "outputs": [
        {
          "output_type": "execute_result",
          "data": {
            "text/plain": [
              "dict"
            ]
          },
          "metadata": {},
          "execution_count": 109
        }
      ],
      "source": [
        "type(train_data[0])"
      ]
    },
    {
      "cell_type": "code",
      "execution_count": 114,
      "metadata": {
        "id": "2ieIjKvYVUwb"
      },
      "outputs": [],
      "source": [
        "def write_to_jsonl(data, file_path):\n",
        "    with open(file_path, \"w\") as file:\n",
        "        for entry in data:\n",
        "            json.dump(entry, file)\n",
        "            file.write('\\n')\n",
        "\n",
        "\n",
        "training_file_name = \"train_1.jsonl\"\n",
        "validation_file_name = \"val_1.jsonl\"\n",
        "\n",
        "write_to_jsonl(train_data, training_file_name)\n",
        "write_to_jsonl(val_data, validation_file_name)"
      ]
    },
    {
      "cell_type": "code",
      "execution_count": 115,
      "metadata": {
        "id": "-HfwzuQcVcj7"
      },
      "outputs": [],
      "source": [
        "\n",
        "from openai import OpenAI\n",
        "client = OpenAI(api_key=\"sk-proj-G8VutRypXIU9UIEeLoYMT3BlbkFJLy5kDruo7EYTJ84sQjFv\")"
      ]
    },
    {
      "cell_type": "code",
      "execution_count": 116,
      "metadata": {
        "colab": {
          "base_uri": "https://localhost:8080/"
        },
        "id": "ffgm5mx3Vlgq",
        "outputId": "7bb534ee-aadf-49e0-896e-7bc7d4611672"
      },
      "outputs": [
        {
          "output_type": "stream",
          "name": "stdout",
          "text": [
            "Training file id: file-OMXb3F9OmEoGnlqIrjHCCoXM\n",
            "Validation file id: file-Cx8VBjy348iACYf0k0oOIFL1\n"
          ]
        }
      ],
      "source": [
        "training_file = client.files.create(\n",
        "    file=open(training_file_name, \"rb\"), purpose=\"fine-tune\"\n",
        ")\n",
        "validation_file = client.files.create(\n",
        "    file=open(validation_file_name, \"rb\"), purpose=\"fine-tune\"\n",
        ")\n",
        "\n",
        "print(\"Training file id:\", training_file.id)\n",
        "print(\"Validation file id:\", validation_file.id)"
      ]
    },
    {
      "cell_type": "code",
      "execution_count": 117,
      "metadata": {
        "colab": {
          "base_uri": "https://localhost:8080/"
        },
        "id": "5Hd_2miQVraj",
        "outputId": "919a1eb3-d271-4cba-eb31-bdbd532d0512"
      },
      "outputs": [
        {
          "output_type": "execute_result",
          "data": {
            "text/plain": [
              "FineTuningJob(id='ftjob-8RmoQl8wQzZNzE3GkftlXrpy', created_at=1714630372, error=Error(code=None, message=None, param=None), fine_tuned_model=None, finished_at=None, hyperparameters=Hyperparameters(n_epochs='auto', batch_size='auto', learning_rate_multiplier='auto'), model='gpt-3.5-turbo-0125', object='fine_tuning.job', organization_id='org-HZKLAzY4JCgQsHV6XT6RYrNx', result_files=[], seed=1681322092, status='validating_files', trained_tokens=None, training_file='file-OMXb3F9OmEoGnlqIrjHCCoXM', validation_file='file-Cx8VBjy348iACYf0k0oOIFL1', estimated_finish=None, integrations=[], user_provided_suffix='Harry_porter_1')"
            ]
          },
          "metadata": {},
          "execution_count": 117
        }
      ],
      "source": [
        "\n",
        "suffix_name = \"Harry_porter_1\"\n",
        "\n",
        "response = client.fine_tuning.jobs.create(\n",
        "    training_file=training_file.id,\n",
        "    validation_file=validation_file.id,\n",
        "    model=\"gpt-3.5-turbo\",\n",
        "    suffix=suffix_name,\n",
        ")\n",
        "response"
      ]
    },
    {
      "cell_type": "code",
      "execution_count": null,
      "metadata": {
        "colab": {
          "base_uri": "https://localhost:8080/"
        },
        "id": "UDIF7qBJV7Ad",
        "outputId": "0aca405a-42cd-4d1b-a687-f9fbba832caf"
      },
      "outputs": [
        {
          "output_type": "execute_result",
          "data": {
            "text/plain": [
              "SyncCursorPage[FineTuningJob](data=[FineTuningJob(id='ftjob-jrUvkEQvnm5U4RtmxrNv5M5A', created_at=1712671278, error=Error(code=None, message=None, param=None, error=None), fine_tuned_model=None, finished_at=None, hyperparameters=Hyperparameters(n_epochs=3, batch_size=3, learning_rate_multiplier=8), model='gpt-3.5-turbo-0125', object='fine_tuning.job', organization_id='org-HZKLAzY4JCgQsHV6XT6RYrNx', result_files=[], status='validating_files', trained_tokens=None, training_file='file-gx9y47vilo5zjgWTPbQO9fjS', validation_file='file-XJdoJn2QyjyJJdsH1wnUeNtb', user_provided_suffix='Harry_porter', seed=497932801, integrations=[]), FineTuningJob(id='ftjob-TOAYhvaTjNFeO1W2kChmstVM', created_at=1712669029, error=Error(code=None, message=None, param=None, error=None), fine_tuned_model=None, finished_at=None, hyperparameters=Hyperparameters(n_epochs=3, batch_size=3, learning_rate_multiplier=8), model='gpt-3.5-turbo-1106', object='fine_tuning.job', organization_id='org-HZKLAzY4JCgQsHV6XT6RYrNx', result_files=[], status='running', trained_tokens=None, training_file='file-uCjp2FVWxPJJeZMhxX1fY5QJ', validation_file='file-OzkPTqrgwfkGPKB4x5ocvA3N', user_provided_suffix='Harry_porter', seed=168454495, integrations=[]), FineTuningJob(id='ftjob-tqwappJ9P14bheM847hLajA3', created_at=1712668140, error=Error(code=None, message=None, param=None, error=None), fine_tuned_model=None, finished_at=None, hyperparameters=Hyperparameters(n_epochs=3, batch_size=3, learning_rate_multiplier=8), model='gpt-3.5-turbo-1106', object='fine_tuning.job', organization_id='org-HZKLAzY4JCgQsHV6XT6RYrNx', result_files=[], status='running', trained_tokens=None, training_file='file-Iu51tKwyNZe3LPHCg064mU6O', validation_file='file-8uqh06cejRZSxhJyh3kMTz3i', user_provided_suffix='Harry_porter', seed=1667186342, integrations=[]), FineTuningJob(id='ftjob-H9TSWimJyTbQFDXXk9tQQBpp', created_at=1712665896, error=Error(code=None, message=None, param=None, error=None), fine_tuned_model=None, finished_at=None, hyperparameters=Hyperparameters(n_epochs=3, batch_size=3, learning_rate_multiplier=8), model='gpt-3.5-turbo-1106', object='fine_tuning.job', organization_id='org-HZKLAzY4JCgQsHV6XT6RYrNx', result_files=[], status='running', trained_tokens=None, training_file='file-Iu51tKwyNZe3LPHCg064mU6O', validation_file='file-8uqh06cejRZSxhJyh3kMTz3i', user_provided_suffix='Harry_porter', seed=1511975165, integrations=[]), FineTuningJob(id='ftjob-AFo84jS4yoJ9LlQ4CyEDRyTx', created_at=1711206008, error=Error(code=None, message=None, param=None, error=None), fine_tuned_model='ft:gpt-3.5-turbo-1106:personal:movie-demo-1:95xFyzlx', finished_at=1711206449, hyperparameters=Hyperparameters(n_epochs=3, batch_size=1, learning_rate_multiplier=2), model='gpt-3.5-turbo-1106', object='fine_tuning.job', organization_id='org-HZKLAzY4JCgQsHV6XT6RYrNx', result_files=['file-wewgaOx1m6JqGovpz1nvwaBo'], status='succeeded', trained_tokens=33459, training_file='file-62En5GB1UpWneevEj7YpdYyw', validation_file='file-cMgDSn9Y2msxsAykcwOrqZA6', user_provided_suffix='Movie_demo_1', seed=None, integrations=[]), FineTuningJob(id='ftjob-M3j4rFM7P0vr1D4r2WoZaNVG', created_at=1711203888, error=Error(code=None, message=None, param=None, error=None), fine_tuned_model='ft:gpt-3.5-turbo-1106:personal:movie-demo:95wh8MKl', finished_at=1711204289, hyperparameters=Hyperparameters(n_epochs=3, batch_size=1, learning_rate_multiplier=2), model='gpt-3.5-turbo-1106', object='fine_tuning.job', organization_id='org-HZKLAzY4JCgQsHV6XT6RYrNx', result_files=['file-tsxag7oYg28XZErgqGjEjDMh'], status='succeeded', trained_tokens=34866, training_file='file-9beeuzpUd6tj3Tp4HXYuCUiG', validation_file='file-eejmDHzdsvwbhTTTzGyLtu2i', user_provided_suffix='Movie_demo', seed=None, integrations=[]), FineTuningJob(id='ftjob-ubSEcSyxQvzaqb27KRnuF5Zl', created_at=1710586751, error=Error(code=None, message=None, param=None, error=None), fine_tuned_model='ft:gpt-3.5-turbo-1106:personal:yt-tutorial:93MFQfsw', finished_at=1710587531, hyperparameters=Hyperparameters(n_epochs=3, batch_size=1, learning_rate_multiplier=2), model='gpt-3.5-turbo-1106', object='fine_tuning.job', organization_id='org-HZKLAzY4JCgQsHV6XT6RYrNx', result_files=['file-3hlO12C44PaxdVyMitcU0DE7'], status='succeeded', trained_tokens=9123, training_file='file-K0TWOedQh2xv37jJRqRyXozv', validation_file='file-Mdekj0XZKTviI8OX4VVEg0ML', user_provided_suffix='yt_tutorial', seed=None, integrations=[]), FineTuningJob(id='ftjob-LGWnCLk2jFkkqiu9ZBaOVQ8U', created_at=1710586353, error=Error(code=None, message=None, param=None, error=None), fine_tuned_model='ft:gpt-3.5-turbo-1106:personal:yt-tutorial:93M5zaHx', finished_at=1710586946, hyperparameters=Hyperparameters(n_epochs=3, batch_size=1, learning_rate_multiplier=2), model='gpt-3.5-turbo-1106', object='fine_tuning.job', organization_id='org-HZKLAzY4JCgQsHV6XT6RYrNx', result_files=['file-zNic3h8m849qlKQBOTUVQxFK'], status='succeeded', trained_tokens=9123, training_file='file-K0TWOedQh2xv37jJRqRyXozv', validation_file='file-Mdekj0XZKTviI8OX4VVEg0ML', user_provided_suffix='yt_tutorial', seed=None, integrations=[]), FineTuningJob(id='ftjob-YQdOgbNo5XR4dWUTRRq6XJ3c', created_at=1709838892, error=Error(code=None, message=None, param=None, error=None), fine_tuned_model='ft:gpt-3.5-turbo-0125:personal:yt-tutorial:90DguSif', finished_at=1709839655, hyperparameters=Hyperparameters(n_epochs=3, batch_size=1, learning_rate_multiplier=2), model='gpt-3.5-turbo-0125', object='fine_tuning.job', organization_id='org-HZKLAzY4JCgQsHV6XT6RYrNx', result_files=['file-M3Xd80jISnnORUlmTQBouVBF'], status='succeeded', trained_tokens=9123, training_file='file-J6FybeIFkAcyJHDRcl9WnadB', validation_file='file-psVCp56ixQhmOyYCNCRqFBvB', user_provided_suffix='yt_tutorial', seed=None, integrations=[])], object='list', has_more=False)"
            ]
          },
          "metadata": {},
          "execution_count": 77
        }
      ],
      "source": [
        "\n",
        "client.fine_tuning.jobs.list(limit=10)"
      ]
    },
    {
      "cell_type": "code",
      "execution_count": 170,
      "metadata": {
        "colab": {
          "base_uri": "https://localhost:8080/"
        },
        "id": "4mzuCH84WEMu",
        "outputId": "cbec3049-861d-4c73-a4d4-bc10efb905b4"
      },
      "outputs": [
        {
          "output_type": "execute_result",
          "data": {
            "text/plain": [
              "FineTuningJob(id='ftjob-Toh1WzLMPrlvxT2fZl3krdoI', created_at=1714590937, error=Error(code=None, message=None, param=None), fine_tuned_model='ft:gpt-3.5-turbo-0125:personal:question-answering:9KAUxe6O', finished_at=1714593941, hyperparameters=Hyperparameters(n_epochs=3, batch_size=3, learning_rate_multiplier=2), model='gpt-3.5-turbo-0125', object='fine_tuning.job', organization_id='org-HZKLAzY4JCgQsHV6XT6RYrNx', result_files=['file-qvp96ojUeNImpgFJjlDyLMjw'], seed=91797584, status='succeeded', trained_tokens=157047, training_file='file-VJhx0fw4ZBo6RoAoITxSkCj8', validation_file='file-iwMEh0N1IQyi8CLXoWcSp5ji', estimated_finish=None, integrations=[], user_provided_suffix='Question_Answering')"
            ]
          },
          "metadata": {},
          "execution_count": 170
        }
      ],
      "source": [
        "\n",
        "response = client.fine_tuning.jobs.retrieve(\"ftjob-Toh1WzLMPrlvxT2fZl3krdoI\")\n",
        "response"
      ]
    },
    {
      "cell_type": "code",
      "execution_count": 171,
      "metadata": {
        "colab": {
          "base_uri": "https://localhost:8080/"
        },
        "id": "BHhoOsOwYsI1",
        "outputId": "1c8b65b0-dbe2-4286-e361-09e4e38394ad"
      },
      "outputs": [
        {
          "output_type": "stream",
          "name": "stdout",
          "text": [
            "\n",
            "Fine-tuned model id: ft:gpt-3.5-turbo-0125:personal:question-answering:9KAUxe6O\n"
          ]
        }
      ],
      "source": [
        "fine_tuned_model_id = response.fine_tuned_model\n",
        "print(\"\\nFine-tuned model id:\", fine_tuned_model_id)"
      ]
    },
    {
      "cell_type": "code",
      "execution_count": 163,
      "metadata": {
        "id": "2jdmb2hNukAQ"
      },
      "outputs": [],
      "source": []
    },
    {
      "cell_type": "code",
      "execution_count": 172,
      "metadata": {
        "id": "lr5BsY6rZtcN"
      },
      "outputs": [],
      "source": [
        "from sklearn.metrics import accuracy_score, precision_score, recall_score, f1_score\n",
        "\n",
        "def format_test(row):\n",
        "\n",
        "    formatted_message = [\n",
        "        {\n",
        "            \"role\": \"user\",\n",
        "            \"content\": row['question']\n",
        "        }\n",
        "    ]\n",
        "    return formatted_message\n",
        "\n",
        "\n",
        "def predict(test_messages, fine_tuned_model_id):\n",
        "\n",
        "    response = client.chat.completions.create(\n",
        "        model=fine_tuned_model_id, messages=test_messages, temperature=0, max_tokens=50\n",
        "    )\n",
        "\n",
        "    return response.choices[0].message.content\n"
      ]
    },
    {
      "cell_type": "code",
      "execution_count": 175,
      "metadata": {
        "id": "bUKQGEFiZ6Gj"
      },
      "outputs": [],
      "source": [
        "def store_predictions(test_df, fine_tuned_model_id):\n",
        "\n",
        "    print(\"fine_tuned_model_id\",fine_tuned_model_id)\n",
        "    test_df['Prediction'] = None\n",
        "\n",
        "    for index, row in test_df.iterrows():\n",
        "        test_message = format_test(row)\n",
        "        prediction_result = predict(test_message, fine_tuned_model_id)\n",
        "        test_df.at[index, 'Prediction'] = prediction_result\n",
        "\n",
        "\n",
        "    test_df.to_csv(\"predictions_new_qA.csv\")\n"
      ]
    },
    {
      "cell_type": "code",
      "execution_count": 176,
      "metadata": {
        "colab": {
          "base_uri": "https://localhost:8080/"
        },
        "id": "wQPnL5wraBeL",
        "outputId": "51e2fad5-1cfc-4c23-8025-fd1acea596b9"
      },
      "outputs": [
        {
          "output_type": "stream",
          "name": "stdout",
          "text": [
            "fine_tuned_model_id ft:gpt-3.5-turbo-0125:personal:question-answering:9KAUxe6O\n"
          ]
        }
      ],
      "source": [
        "\n",
        "test_df = pd.read_csv(\"/content/sample_data/test.csv\")\n",
        "store_predictions(test_df, fine_tuned_model_id)"
      ]
    },
    {
      "cell_type": "code",
      "source": [
        "from sklearn.metrics import accuracy_score, precision_score, recall_score, f1_score\n",
        "\n",
        "ground_truth = test_df['answer'].tolist()\n",
        "predictions = test_df['Prediction'].tolist()\n",
        "\n",
        "\n",
        "def calculate_metrics(ground_truth, predictions):\n",
        "  \"\"\"\n",
        "  Calculates and prints various evaluation metrics for question answering.\n",
        "\n",
        "  Args:\n",
        "      ground_truth: A list of strings containing the correct answers.\n",
        "      predictions:  A list of strings containing the model's predicted answers.\n",
        "\n",
        "  Returns:\n",
        "      A dictionary containing the calculated metrics (accuracy, precision, recall, F1-score).\n",
        "  \"\"\"\n",
        "  metrics = {}\n",
        "\n",
        "  # Ensure equal list lengths (handle cases with missing predictions)\n",
        "  ground_truth = ground_truth[:len(predictions)]\n",
        "  predictions = predictions[:len(ground_truth)]\n",
        "  predictions = [pred if pred is not None else \"I'm not sure\" for pred in predictions]\n",
        "  # Calculate metrics\n",
        "  metrics[\"accuracy\"] = accuracy_score(ground_truth, predictions)\n",
        "  metrics[\"precision\"] = precision_score(ground_truth, predictions, average='weighted')  # Weighted precision for imbalanced datasets\n",
        "  metrics[\"recall\"] = recall_score(ground_truth, predictions, average='weighted')  # Weighted recall for imbalanced datasets\n",
        "  metrics[\"f1\"] = f1_score(ground_truth, predictions, average='weighted')  # Weighted F1-score for imbalanced datasets\n",
        "\n",
        "  # Print Metric Results\n",
        "  print(\"Evaluation Metrics:\")\n",
        "  for metric_name, value in metrics.items():\n",
        "    print(f\"{metric_name}: {value:.4f}\")\n",
        "\n",
        "  return metrics\n",
        "\n",
        "# ... (Your code for generating ground_truth and predictions) ...\n",
        "\n",
        "metrics = calculate_metrics(ground_truth, predictions)"
      ],
      "metadata": {
        "id": "wj9etBRzA1K6",
        "outputId": "15892949-bdad-41ea-e924-3c10b3d40ab2",
        "colab": {
          "base_uri": "https://localhost:8080/"
        }
      },
      "execution_count": 177,
      "outputs": [
        {
          "output_type": "stream",
          "name": "stdout",
          "text": [
            "Evaluation Metrics:\n",
            "accuracy: 0.5874\n",
            "precision: 0.5796\n",
            "recall: 0.5874\n",
            "f1: 0.5753\n"
          ]
        },
        {
          "output_type": "stream",
          "name": "stderr",
          "text": [
            "/usr/local/lib/python3.10/dist-packages/sklearn/metrics/_classification.py:1344: UndefinedMetricWarning: Precision is ill-defined and being set to 0.0 in labels with no predicted samples. Use `zero_division` parameter to control this behavior.\n",
            "  _warn_prf(average, modifier, msg_start, len(result))\n",
            "/usr/local/lib/python3.10/dist-packages/sklearn/metrics/_classification.py:1344: UndefinedMetricWarning: Recall is ill-defined and being set to 0.0 in labels with no true samples. Use `zero_division` parameter to control this behavior.\n",
            "  _warn_prf(average, modifier, msg_start, len(result))\n"
          ]
        }
      ]
    }
  ],
  "metadata": {
    "colab": {
      "provenance": [],
      "authorship_tag": "ABX9TyOjQeM8988p4rZM/mDz1m+6",
      "include_colab_link": true
    },
    "kernelspec": {
      "display_name": "Python 3",
      "name": "python3"
    },
    "language_info": {
      "name": "python"
    }
  },
  "nbformat": 4,
  "nbformat_minor": 0
}